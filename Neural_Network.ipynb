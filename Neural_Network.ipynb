{
 "cells": [
  {
   "attachments": {},
   "cell_type": "markdown",
   "metadata": {
    "id": "TiYOe34VAcgd"
   },
   "source": [
    "<img\n",
    "src=\"https://www.imt-atlantique.fr/sites/default/files/Images/Ecole/charte-graphique/IMT_Atlantique_logo_RVB_Baseline_400x272.jpg\"\n",
    "WIDTH=200 HEIGHT=200>\n",
    "\n",
    "<CENTER>\n",
    "</br>\n",
    "<p><font size=\"5\"> TAF OPE - 2022-2023</span></p>\n",
    "<p><font size=\"4\">  UE Machine Learning and advanced processing methods for multi-sensor data  </font></p>\n",
    "<p></p>\n",
    "<p><font size=\"5\">  Notebook : Neural Network </font></p>\n",
    "<p><font size = \"4\"> Students: Daniel TERAN</p>\n",
    "</p></br>\n",
    "</p>\n",
    "</CENTER>"
   ]
  },
  {
   "attachments": {},
   "cell_type": "markdown",
   "metadata": {
    "id": "ETRSRBLbAcgq"
   },
   "source": [
    "We built an Artificial Neural Networks (ANN) with one input layer, one hidden layer, and one output layer. We will apply this neural network to find non-linear boundaries \n",
    "\n"
   ]
  },
  {
   "cell_type": "code",
   "execution_count": 1,
   "metadata": {
    "id": "zwEwx6LwAcgz"
   },
   "outputs": [],
   "source": [
    "import numpy as np\n",
    "import pandas as pd\n",
    "import matplotlib.pyplot as plt\n",
    "from numpy import linalg as la\n",
    "from sklearn.datasets import   make_moons\n",
    "from sklearn.model_selection import train_test_split"
   ]
  },
  {
   "attachments": {},
   "cell_type": "markdown",
   "metadata": {
    "id": "3fIWfPYQAcg6"
   },
   "source": [
    "#### 1: Define  sigmoid  activiation function\n",
    "\n",
    "\n"
   ]
  },
  {
   "cell_type": "code",
   "execution_count": 2,
   "metadata": {
    "id": "8yBqA_MHAcg-"
   },
   "outputs": [],
   "source": [
    "def sigmoid(x):\n",
    "    return 1/(1 + np.exp(-x))"
   ]
  },
  {
   "attachments": {},
   "cell_type": "markdown",
   "metadata": {
    "id": "0uGBTx4nAchE"
   },
   "source": [
    "#### 2: Define prediction function"
   ]
  },
  {
   "cell_type": "code",
   "execution_count": 3,
   "metadata": {
    "id": "DvTcDDfzAchH"
   },
   "outputs": [],
   "source": [
    "def myPrediction(W, U,x):\n",
    "    a = np.dot(W,x)\n",
    "    h= sigmoid(a)\n",
    "    a2 = np.dot(U,h)\n",
    "    t = sigmoid(a2)\n",
    "    return t,h"
   ]
  },
  {
   "attachments": {},
   "cell_type": "markdown",
   "metadata": {
    "id": "36YAB6CXAchK"
   },
   "source": [
    "#### 3: Build our own neural network "
   ]
  },
  {
   "cell_type": "code",
   "execution_count": 4,
   "metadata": {
    "id": "5wEWaCjxAchM"
   },
   "outputs": [],
   "source": [
    "def myNeuralNetwork(X, Y, hidden_dim, alpha, W, U):\n",
    "\n",
    "#X: input of x_n dim\n",
    "#Y: output of y_n dim\n",
    "#hidden_dim: number of neurones to create\n",
    " \n",
    "    for n in range(X.shape[0]):\n",
    "        x = np.array(X[n,:], ndmin=2).T\n",
    "        y = np.array(Y[n], ndmin=2).T\n",
    "\n",
    "        t,h = myPrediction(W,U,x)\n",
    "\n",
    "        # update the weight for the link between the hidden and the output layers\n",
    "        U +=  np.dot(alpha *(y-t) * t * (1-t),h.T)\n",
    "\n",
    "        # update the weight for the link between the input and the hidden layers \n",
    "        f1 = np.dot((U*(y-t)) * t * (1-t), h)\n",
    "        W += np.dot(alpha * (f1*(1-h)), x.T)\n",
    "\n",
    "    return W, U"
   ]
  },
  {
   "attachments": {},
   "cell_type": "markdown",
   "metadata": {
    "id": "dbv9a0xAAchR"
   },
   "source": [
    "#### 4: Create non-linear data by using make_moons function from sklearn dataset. Then use train_test_split function to divide the created dataset into training set and test set"
   ]
  },
  {
   "cell_type": "code",
   "execution_count": 5,
   "metadata": {
    "id": "bsTTYBurAchS"
   },
   "outputs": [],
   "source": [
    "num_points = 300\n",
    "\n",
    "X, y =  make_moons(num_points, noise = 0.05)"
   ]
  },
  {
   "cell_type": "code",
   "execution_count": 6,
   "metadata": {
    "colab": {
     "base_uri": "https://localhost:8080/"
    },
    "id": "M4Rjngv1DWSi",
    "outputId": "f624409f-02bb-48b1-98f5-303eb8801456"
   },
   "outputs": [
    {
     "data": {
      "text/plain": [
       "((240, 2), (60, 2), (240,), (60,))"
      ]
     },
     "execution_count": 6,
     "metadata": {},
     "output_type": "execute_result"
    }
   ],
   "source": [
    "X_train, X_val, y_train, y_val = train_test_split(X,y,test_size = 0.2,random_state=1)\n",
    "X_train.shape, X_val.shape, y_train.shape, y_val.shape"
   ]
  },
  {
   "attachments": {},
   "cell_type": "markdown",
   "metadata": {
    "id": "GnOvWfZtAchW"
   },
   "source": [
    "#### 5: Visualize the dataset "
   ]
  },
  {
   "cell_type": "code",
   "execution_count": 7,
   "metadata": {
    "colab": {
     "base_uri": "https://localhost:8080/",
     "height": 279
    },
    "id": "pe21IRNsD2sU",
    "outputId": "e4f1188d-a700-4268-9f8b-688c950bc5f0"
   },
   "outputs": [
    {
     "data": {
      "image/png": "[encoded data removed]",
      "text/plain": [
       "<Figure size 432x288 with 1 Axes>"
      ]
     },
     "metadata": {
      "needs_background": "light"
     },
     "output_type": "display_data"
    }
   ],
   "source": [
    "# ALL dataset\n",
    "df = pd.DataFrame(dict(x=X_train[:,0], y = X_train[:,1], label = y_train))\n",
    "colors = {0:'red', 1:'blue'}\n",
    "fig, ax = plt.subplots()\n",
    "grouped = df.groupby('label')\n",
    "for key, group in grouped:\n",
    "    group.plot(ax = ax, kind ='scatter', x = 'x', y= 'y', label = key, color = colors[key])\n",
    "plt.show()"
   ]
  },
  {
   "attachments": {},
   "cell_type": "markdown",
   "metadata": {
    "id": "FbLzyaFwAchY"
   },
   "source": [
    "#### 6: Train our network with hidden dimensionality = 10 with epochs = 5. Then test the performance of our prediction  "
   ]
  },
  {
   "cell_type": "code",
   "execution_count": 8,
   "metadata": {
    "id": "cB89rz_JAcha"
   },
   "outputs": [],
   "source": [
    "hidden_dim = 10\n",
    "alpha= 0.01 # learning rate for gradient descent\n",
    "input_dim = 2\n",
    "\n",
    "# weight matrix for Hidden layer \n",
    "W = np.random.randn(hidden_dim, input_dim)  \n",
    "# weight matrix for output layer\n",
    "U = np.random.randn(1, hidden_dim) \n",
    "\n",
    "# epochs is the number of times the training data set is used for training\n",
    "epochs = 5\n",
    "\n",
    "for e in range(epochs):\n",
    "    W, U = myNeuralNetwork(X_train, y_train, hidden_dim, alpha, W, U)"
   ]
  },
  {
   "cell_type": "code",
   "execution_count": 9,
   "metadata": {
    "scrolled": false
   },
   "outputs": [
    {
     "name": "stdout",
     "output_type": "stream",
     "text": [
      "[0.43178702]\n",
      "[0.67530521]\n",
      "[0.64228295]\n",
      "[0.58031658]\n",
      "[0.48792154]\n",
      "[0.51775095]\n",
      "[0.43208802]\n",
      "[0.64553445]\n",
      "[0.51764801]\n",
      "[0.59801721]\n",
      "[0.48833007]\n",
      "[0.53171807]\n",
      "[0.47122423]\n",
      "[0.66734319]\n",
      "[0.61793492]\n",
      "[0.6691424]\n",
      "[0.65027662]\n",
      "[0.42312172]\n",
      "[0.54355105]\n",
      "[0.44955814]\n",
      "[0.42906383]\n",
      "[0.42114107]\n",
      "[0.4178427]\n",
      "[0.41637012]\n",
      "[0.63217406]\n",
      "[0.58935732]\n",
      "[0.58661317]\n",
      "[0.55529816]\n",
      "[0.55275426]\n",
      "[0.61724054]\n",
      "[0.58051329]\n",
      "[0.63755793]\n",
      "[0.63217475]\n",
      "[0.41057763]\n",
      "[0.448485]\n",
      "[0.58637152]\n",
      "[0.47795403]\n",
      "[0.47402888]\n",
      "[0.62523358]\n",
      "[0.63884581]\n",
      "[0.6722618]\n",
      "[0.65836936]\n",
      "[0.55191816]\n",
      "[0.66456451]\n",
      "[0.48207622]\n",
      "[0.62206949]\n",
      "[0.41484541]\n",
      "[0.66614964]\n",
      "[0.59935937]\n",
      "[0.67440943]\n",
      "[0.61099185]\n",
      "[0.45532271]\n",
      "[0.67429318]\n",
      "[0.41808547]\n",
      "[0.40943667]\n",
      "[0.54446289]\n",
      "[0.62802271]\n",
      "[0.54385413]\n",
      "[0.6103186]\n",
      "[0.4160185]\n"
     ]
    }
   ],
   "source": [
    "# using prediction function to predict the labels of test set\n",
    "\n",
    "for i in X_val:\n",
    "    print(myPrediction(W, U, i)[0])"
   ]
  },
  {
   "attachments": {},
   "cell_type": "markdown",
   "metadata": {
    "id": "CNrQL8CeAchc"
   },
   "source": [
    "#### 7: Train our network with hidden dimensionality = 100. Then test the performance of our prediction. Give your remarks "
   ]
  },
  {
   "cell_type": "code",
   "execution_count": 10,
   "metadata": {
    "id": "pASjtSH8Achc"
   },
   "outputs": [],
   "source": [
    "hidden_dim = 100\n",
    "alpha= 0.01 # learning rate for gradient descent\n",
    "input_dim = 2\n",
    "\n",
    "# weight matrix for Hidden layer \n",
    "W = np.random.randn(hidden_dim, input_dim)  \n",
    "# weight matrix for output layer\n",
    "U = np.random.randn(1, hidden_dim) \n",
    "\n",
    "# epochs is the number of times the training data set is used for training\n",
    "epochs = 40\n",
    "\n",
    "for e in range(epochs):\n",
    "    W, U = myNeuralNetwork(X_train, y_train, hidden_dim, alpha, W, U)"
   ]
  },
  {
   "cell_type": "code",
   "execution_count": 11,
   "metadata": {},
   "outputs": [
    {
     "name": "stdout",
     "output_type": "stream",
     "text": [
      "[0.09135798]\n",
      "[0.4787075]\n",
      "[0.96373348]\n",
      "[0.25445733]\n",
      "[0.11621902]\n",
      "[0.14498877]\n",
      "[0.14360122]\n",
      "[0.96717319]\n",
      "[0.14571298]\n",
      "[0.31873021]\n",
      "[0.11807231]\n",
      "[0.36418771]\n",
      "[0.10295655]\n",
      "[0.82082572]\n",
      "[0.44583563]\n",
      "[0.81727671]\n",
      "[0.95491327]\n",
      "[0.14301289]\n",
      "[0.17530178]\n",
      "[0.09109105]\n",
      "[0.09824015]\n",
      "[0.36234217]\n",
      "[0.13279617]\n",
      "[0.19322394]\n",
      "[0.96226204]\n",
      "[0.92237249]\n",
      "[0.91254969]\n",
      "[0.76753377]\n",
      "[0.76075477]\n",
      "[0.39551164]\n",
      "[0.25182761]\n",
      "[0.96443347]\n",
      "[0.67981911]\n",
      "[0.30894393]\n",
      "[0.07999154]\n",
      "[0.92409535]\n",
      "[0.1063056]\n",
      "[0.1027703]\n",
      "[0.3794053]\n",
      "[0.95854285]\n",
      "[0.66964005]\n",
      "[0.92998721]\n",
      "[0.18579901]\n",
      "[0.93475033]\n",
      "[0.11279163]\n",
      "[0.36378563]\n",
      "[0.22378299]\n",
      "[0.8955026]\n",
      "[0.93919715]\n",
      "[0.48086987]\n",
      "[0.94602649]\n",
      "[0.09359174]\n",
      "[0.516432]\n",
      "[0.12264235]\n",
      "[0.28398305]\n",
      "[0.60095608]\n",
      "[0.62323577]\n",
      "[0.67167427]\n",
      "[0.33922455]\n",
      "[0.34522894]\n"
     ]
    }
   ],
   "source": [
    "# using prediction function to predict the labels of test set\n",
    "for i in X_val:\n",
    "    print(myPrediction(W, U, i)[0])"
   ]
  },
  {
   "cell_type": "markdown",
   "metadata": {},
   "source": [
    "#### Parmi les valeurs observées en sortie du réseau neuronal simple, certaines valeurs ont idéalement un 0 et d'autres un 1. L'entraînement du réseau avec une couche cachée de 10 ou 100 neurones ne varie pas beaucoup, ils ont un 1. Mais si nous augmentons les itérations d'apprentissage, les époques, nous pouvons remarquer différentes valeurs, certaines tendant vers 0 et d'autres vers 1."
   ]
  }
 ],
 "metadata": {
  "colab": {
   "provenance": []
  },
  "kernelspec": {
   "display_name": "Python 3 (ipykernel)",
   "language": "python",
   "name": "python3"
  },
  "language_info": {
   "codemirror_mode": {
    "name": "ipython",
    "version": 3
   },
   "file_extension": ".py",
   "mimetype": "text/x-python",
   "name": "python",
   "nbconvert_exporter": "python",
   "pygments_lexer": "ipython3",
   "version": "3.9.12"
  }
 },
 "nbformat": 4,
 "nbformat_minor": 1
}
